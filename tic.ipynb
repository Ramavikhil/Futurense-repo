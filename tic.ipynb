{
 "cells": [
  {
   "cell_type": "code",
   "execution_count": 1,
   "metadata": {},
   "outputs": [],
   "source": [
    "import tkinter as tk\n",
    "from tkinter import messagebox\n",
    "\n",
    "class TicTacToe:\n",
    "    def _init_(self, master):\n",
    "        self.master = master\n",
    "        self.master.title(\"Tic Tac Toe\")\n",
    "        self.current_player = 'X'\n",
    "        self.board = [[' ' for _ in range(3)] for _ in range(3)]\n",
    "        self.buttons = [[None for _ in range(3)] for _ in range(3)]\n",
    "        self.create_board()\n",
    "\n",
    "    def create_board(self):\n",
    "        for i in range(3):\n",
    "            for j in range(3):\n",
    "                self.buttons[i][j] = tk.Button(self.master, text='', font=('Arial', 30), width=5, height=2,\n",
    "                                               command=lambda row=i, col=j: self.click(row, col))\n",
    "                self.buttons[i][j].grid(row=i, column=j)\n",
    "\n",
    "    def click(self, row, col):\n",
    "        if self.board[row][col] == ' ':\n",
    "            self.board[row][col] = self.current_player\n",
    "            self.buttons[row][col].config(text=self.current_player)\n",
    "            if self.check_winner():\n",
    "                messagebox.showinfo(\"Winner\", f\"Player {self.current_player} wins!\")\n",
    "                self.reset_board()\n",
    "            elif self.check_draw():\n",
    "                messagebox.showinfo(\"Draw\", \"It's a draw!\")\n",
    "                self.reset_board()\n",
    "            else:\n",
    "                self.current_player = 'O' if self.current_player == 'X' else 'X'\n",
    "\n",
    "    def check_winner(self):\n",
    "        for i in range(3):\n",
    "            if self.board[i][0] == self.board[i][1] == self.board[i][2] != ' ':\n",
    "                return True\n",
    "            if self.board[0][i] == self.board[1][i] == self.board[2][i] != ' ':\n",
    "                return True\n",
    "        if self.board[0][0] == self.board[1][1] == self.board[2][2] != ' ':\n",
    "            return True\n",
    "        if self.board[0][2] == self.board[1][1] == self.board[2][0] != ' ':\n",
    "            return True\n",
    "        return False\n",
    "\n",
    "    def check_draw(self):\n",
    "        for row in self.board:\n",
    "            for cell in row:\n",
    "                if cell == ' ':\n",
    "                    return False\n",
    "        return True\n",
    "\n",
    "    def reset_board(self):\n",
    "        for i in range(3):\n",
    "            for j in range(3):\n",
    "                self.board[i][j] = ' '\n",
    "                self.buttons[i][j].config(text='')\n",
    "        self.current_player = 'X'"
   ]
  },
  {
   "cell_type": "code",
   "execution_count": 4,
   "metadata": {},
   "outputs": [
    {
     "ename": "NameError",
     "evalue": "name '_name_' is not defined",
     "output_type": "error",
     "traceback": [
      "\u001b[1;31m---------------------------------------------------------------------------\u001b[0m",
      "\u001b[1;31mNameError\u001b[0m                                 Traceback (most recent call last)",
      "\u001b[1;32mc:\\Users\\vikky\\OneDrive\\Desktop\\tic\\tic.ipynb Cell 2\u001b[0m line \u001b[0;36m1\n\u001b[1;32m----> <a href='vscode-notebook-cell:/c%3A/Users/vikky/OneDrive/Desktop/tic/tic.ipynb#W1sZmlsZQ%3D%3D?line=0'>1</a>\u001b[0m \u001b[39mif\u001b[39;00m _name_ \u001b[39m==\u001b[39m \u001b[39m\"\u001b[39m\u001b[39m_main_\u001b[39m\u001b[39m\"\u001b[39m:\n\u001b[0;32m      <a href='vscode-notebook-cell:/c%3A/Users/vikky/OneDrive/Desktop/tic/tic.ipynb#W1sZmlsZQ%3D%3D?line=1'>2</a>\u001b[0m     root \u001b[39m=\u001b[39m tk\u001b[39m.\u001b[39mTk()\n\u001b[0;32m      <a href='vscode-notebook-cell:/c%3A/Users/vikky/OneDrive/Desktop/tic/tic.ipynb#W1sZmlsZQ%3D%3D?line=2'>3</a>\u001b[0m     game \u001b[39m=\u001b[39m TicTacToe(root)\n",
      "\u001b[1;31mNameError\u001b[0m: name '_name_' is not defined"
     ]
    }
   ],
   "source": [
    "if _name_ == \"_main_\":\n",
    "    root = tk.Tk()\n",
    "    game = TicTacToe(root)\n",
    "    root.mainloop()"
   ]
  },
  {
   "cell_type": "code",
   "execution_count": null,
   "metadata": {},
   "outputs": [],
   "source": []
  }
 ],
 "metadata": {
  "kernelspec": {
   "display_name": "base",
   "language": "python",
   "name": "python3"
  },
  "language_info": {
   "codemirror_mode": {
    "name": "ipython",
    "version": 3
   },
   "file_extension": ".py",
   "mimetype": "text/x-python",
   "name": "python",
   "nbconvert_exporter": "python",
   "pygments_lexer": "ipython3",
   "version": "3.11.5"
  }
 },
 "nbformat": 4,
 "nbformat_minor": 2
}
